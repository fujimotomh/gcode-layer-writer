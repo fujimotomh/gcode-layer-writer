{
 "cells": [
  {
   "cell_type": "code",
   "execution_count": 36,
   "metadata": {
    "collapsed": false
   },
   "outputs": [],
   "source": [
    "import os\n",
    "import numpy as np\n",
    "\n",
    "def write_gcode(gcode_content, gcode_path, heatbed_temp=37):\n",
    "    \"\"\"\n",
    "    Convert list of gcommands into .gcode file. Also add start and end commands\n",
    "\n",
    "    gcommand_layers, list of lists of GCommand objects\n",
    "    gcode_path, path to write output\n",
    "    heatbed_temp, start temp UNUSED\n",
    "    \"\"\"\n",
    "    assert heatbed_temp <= 200, \"{} > max temp 200\".format(heatbed_temp)\n",
    "\n",
    "    with open(gcode_path, 'w') as gcode_file:\n",
    "        for i in range(len(gcode_content)):\n",
    "            gcode_file.write(gcode_content[i])\n",
    "\n",
    "def TCommand(content, lines, psi):\n",
    "    \"\"\"\n",
    "    Returns a gcode representation of the command to initialize each extruder element\n",
    "    \"\"\"\n",
    "    if   \"T0\" in content:\n",
    "        return str(\"M42 P4 S\" + str(psi) + \"\\n\")\n",
    "    elif \"T1\" in content:\n",
    "        return str(\"M42 P5 S\" + str(psi) + \"\\n\")\n",
    "    elif \"T2\" in content:\n",
    "        return str(\"M42 P6 S\" + str(psi) + \"\\n\")\n",
    "#     elif \"T3\" in content:\n",
    "#         return str(\"M42 P6 S\" + str(psi) + \"\\n\")\n",
    "#     elif \"T4\" in content:\n",
    "#         return str(\"M42 P6 S\" + str(psi) + \"\\n\")\n",
    "    else:\n",
    "        return \"\"\n",
    "\n",
    "def main():\n",
    "    psi_on  = 15\n",
    "    psi_off = 255\n",
    "    counter = 0\n",
    "    \n",
    "    lines = []\n",
    "    stack = []\n",
    "    \n",
    "    with open('STL/20mm_cubeSlic3r.gcode') as f:\n",
    "        content = f.readlines()\n",
    "        \n",
    "    for i in range(len(content)):\n",
    "        #Count Each Layer\n",
    "        if content[i] != \"\\r\\n\":\n",
    "            if \";After\" in content[i]:\n",
    "                lines.append(\";LAYER:\" + str(counter) + \"\\n\")\n",
    "                counter += 1\n",
    "            lines.append(content[i])\n",
    "\n",
    "        if (i + 1 < len(content)):\n",
    "            if (\"T\" in content[i+1]) or (content[i+1] in [\"\\n\", \"\\r\\n\"]):\n",
    "                if stack:\n",
    "                    lines.append(stack.pop())\n",
    "                stack.append(TCommand(content[i+1], lines, psi_off))\n",
    "            else:\n",
    "                lines.append(TCommand(content[i], lines, psi_on))\n",
    "    write_gcode(lines, '20mm_cube_out.gcode')\n",
    "\n",
    "if __name__ == '__main__':\n",
    "    main()\n",
    "\n"
   ]
  },
  {
   "cell_type": "code",
   "execution_count": 15,
   "metadata": {
    "collapsed": true
   },
   "outputs": [],
   "source": [
    "\n"
   ]
  }
 ],
 "metadata": {
  "kernelspec": {
   "display_name": "Python 3",
   "language": "python",
   "name": "python3"
  },
  "language_info": {
   "codemirror_mode": {
    "name": "ipython",
    "version": 3
   },
   "file_extension": ".py",
   "mimetype": "text/x-python",
   "name": "python",
   "nbconvert_exporter": "python",
   "pygments_lexer": "ipython3",
   "version": "3.6.0"
  }
 },
 "nbformat": 4,
 "nbformat_minor": 1
}
